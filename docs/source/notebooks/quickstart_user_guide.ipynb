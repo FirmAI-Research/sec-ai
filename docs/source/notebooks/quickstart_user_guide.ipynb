{
    "cells": [
        {
            "cell_type": "code",
            "execution_count": 2,
            "metadata": {
                "nbsphinx": "hidden"
            },
            "outputs": [],
            "source": [
                "# Note: this cell is hidden from the HTML output. Read more: https://nbsphinx.readthedocs.io/en/0.2.1/hidden-cells.html\n",
                "import jupyter_black\n",
                "\n",
                "jupyter_black.load()"
            ]
        },
        {
            "attachments": {},
            "cell_type": "markdown",
            "metadata": {},
            "source": [
                "# Quickstart User Guide"
            ]
        },
        {
            "attachments": {},
            "cell_type": "markdown",
            "metadata": {},
            "source": [
                "Welcome to the Quickstart User Guide for `sec-ai`! This guide is designed to walk you through the fundamental steps needed to install and use the library for using the comprehensive toolset for analyzing and interpreting data from SEC filings. Whether you're a financial analyst, a data scientist, or someone interested in SEC filings, this guide provides examples and code snippets to help you get started.\n",
                "\n",
                "This guide is interactive, allowing you to engage with the code and concepts as you learn. You can run and modify all the code examples shown here for yourself by cloning the repository and running the [quickstart_user_guide.ipynb](https://github.com/alphanome-ai/sec-ai/blob/main/docs/source/notebooks/quickstart_user_guide.ipynb) in a Jupyter notebook.\n",
                "\n",
                "Alternatively, you can also run the notebook directly in your browser using Google Colab:\n",
                "\n",
                "[![Open In Colab](https://colab.research.google.com/assets/colab-badge.svg)](https://colab.research.google.com/github/alphanome-ai/sec-ai/blob/main/docs/source/notebooks/quickstart_user_guide.ipynb)\n",
                "\n",
                "Let's get started!"
            ]
        }
    ],
    "metadata": {
        "kernelspec": {
            "display_name": ".venv",
            "language": "python",
            "name": "python3"
        },
        "language_info": {
            "codemirror_mode": {
                "name": "ipython",
                "version": 3
            },
            "file_extension": ".py",
            "mimetype": "text/x-python",
            "name": "python",
            "nbconvert_exporter": "python",
            "pygments_lexer": "ipython3",
            "version": "3.11.4"
        },
        "orig_nbformat": 4
    },
    "nbformat": 4,
    "nbformat_minor": 2
}